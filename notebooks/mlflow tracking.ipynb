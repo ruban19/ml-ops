{
 "cells": [
  {
   "cell_type": "markdown",
   "metadata": {},
   "source": [
    "## with Mlflow Client Low level API"
   ]
  },
  {
   "cell_type": "code",
   "execution_count": null,
   "metadata": {},
   "outputs": [],
   "source": [
    "import mlflow\n",
    "import os\n",
    "from mlflow import MlflowClient\n",
    "import datetime"
   ]
  },
  {
   "cell_type": "code",
   "execution_count": null,
   "metadata": {},
   "outputs": [],
   "source": [
    "os.environ['WANDB_MODE'] = 'disabled'\n",
    "os.environ['WANDB_DISABLED'] = 'true'\n",
    "os.environ['MLFLOW_TRACKING_USERNAME'] = 'ruban.kumar'\n",
    "os.environ['MLFLOW_TRACKING_PASSWORD'] = 'xxx'\n",
    "os.environ['MLFLOW_TRACKING_PROJECTNAME'] = 'text-classification'"
   ]
  },
  {
   "cell_type": "code",
   "execution_count": null,
   "metadata": {},
   "outputs": [],
   "source": [
    "client = MlflowClient('https://dagshub.com/ruban.kumar/text-classification.mlflow')"
   ]
  },
  {
   "cell_type": "code",
   "execution_count": null,
   "metadata": {},
   "outputs": [],
   "source": [
    "experiment_name = 'Text-Classification [pre-trained LLM]'\n",
    "\n",
    "try:\n",
    "    # Attempt to get the experiment by name\n",
    "    experiment_id = client.get_experiment_by_name(experiment_name).experiment_id\n",
    "except AttributeError:\n",
    "    # If getting the experiment raises an AttributeError, create a new one\n",
    "    experiment_id = client.create_experiment(experiment_name)\n",
    "    \n",
    "print(experiment_id)\n"
   ]
  },
  {
   "cell_type": "code",
   "execution_count": null,
   "metadata": {},
   "outputs": [],
   "source": [
    "run_id = client.create_run(experiment_id=experiment_id).info.run_id\n",
    "print(run_id)"
   ]
  },
  {
   "cell_type": "code",
   "execution_count": null,
   "metadata": {},
   "outputs": [],
   "source": [
    "# with client.start_run():\n",
    "client.log_metric(run_id=run_id, key='accuracy', value=42)\n",
    "client.log_param(run_id,'Param name', 'Value')"
   ]
  },
  {
   "cell_type": "code",
   "execution_count": null,
   "metadata": {},
   "outputs": [],
   "source": []
  },
  {
   "cell_type": "code",
   "execution_count": null,
   "metadata": {},
   "outputs": [],
   "source": []
  },
  {
   "cell_type": "code",
   "execution_count": null,
   "metadata": {},
   "outputs": [],
   "source": []
  },
  {
   "cell_type": "code",
   "execution_count": null,
   "metadata": {},
   "outputs": [],
   "source": []
  },
  {
   "cell_type": "code",
   "execution_count": null,
   "metadata": {},
   "outputs": [],
   "source": []
  },
  {
   "cell_type": "code",
   "execution_count": null,
   "metadata": {},
   "outputs": [],
   "source": []
  },
  {
   "cell_type": "code",
   "execution_count": null,
   "metadata": {},
   "outputs": [],
   "source": []
  },
  {
   "cell_type": "markdown",
   "metadata": {},
   "source": [
    "## With MlFlow high level API"
   ]
  },
  {
   "cell_type": "code",
   "execution_count": null,
   "metadata": {},
   "outputs": [],
   "source": [
    "import mlflow\n",
    "import os\n",
    "from mlflow import MlflowClient\n",
    "import datetime"
   ]
  },
  {
   "cell_type": "code",
   "execution_count": null,
   "metadata": {},
   "outputs": [],
   "source": [
    "os.environ['WANDB_MODE'] = 'disabled'\n",
    "os.environ['WANDB_DISABLED'] = 'true'\n",
    "os.environ['MLFLOW_TRACKING_USERNAME'] = 'ruban.kumar'\n",
    "os.environ['MLFLOW_TRACKING_PASSWORD'] = 'xx'\n",
    "os.environ['MLFLOW_TRACKING_PROJECTNAME'] = 'text-classification'"
   ]
  },
  {
   "cell_type": "code",
   "execution_count": null,
   "metadata": {},
   "outputs": [],
   "source": [
    "mlflow.set_registry_uri(\"https://dagshub.com/ruban.kumar/text-classification.mlflow\")\n",
    "mlflow.set_tracking_uri(\"https://dagshub.com/ruban.kumar/text-classification.mlflow\")\n",
    "mlflow.enable_system_metrics_logging()\n",
    "mlflow.transformers.autolog(log_datasets=True,log_models=True)"
   ]
  },
  {
   "cell_type": "code",
   "execution_count": null,
   "metadata": {},
   "outputs": [],
   "source": [
    "experiment_name = 'Text-Classification [Hugging Face]'\n",
    "\n",
    "try:\n",
    "    # Attempt to get the experiment by name\n",
    "    experiment_id = mlflow.get_experiment_by_name(experiment_name).experiment_id\n",
    "except AttributeError:\n",
    "    # If getting the experiment raises an AttributeError, create a new one\n",
    "    experiment_id = mlflow.create_experiment(experiment_name)\n",
    "    \n",
    "print(experiment_id)\n"
   ]
  },
  {
   "cell_type": "code",
   "execution_count": null,
   "metadata": {},
   "outputs": [],
   "source": [
    "mlflow.start_run(experiment_id=experiment_id)\n",
    "# with mlflow.start_run() as run:\n",
    "mlflow.log_metric('accuracy', 42)\n",
    "mlflow.log_param('Param name', 'Value')\n",
    "mlflow.end_run()"
   ]
  },
  {
   "cell_type": "code",
   "execution_count": null,
   "metadata": {},
   "outputs": [],
   "source": []
  },
  {
   "cell_type": "code",
   "execution_count": null,
   "metadata": {},
   "outputs": [],
   "source": []
  },
  {
   "cell_type": "code",
   "execution_count": null,
   "metadata": {},
   "outputs": [],
   "source": []
  },
  {
   "cell_type": "code",
   "execution_count": null,
   "metadata": {},
   "outputs": [],
   "source": []
  },
  {
   "cell_type": "markdown",
   "metadata": {},
   "source": [
    "## Load Best Version Model"
   ]
  },
  {
   "cell_type": "code",
   "execution_count": 3,
   "metadata": {},
   "outputs": [],
   "source": [
    "import mlflow\n",
    "import os"
   ]
  },
  {
   "cell_type": "code",
   "execution_count": 4,
   "metadata": {},
   "outputs": [],
   "source": [
    "os.environ['WANDB_MODE'] = 'disabled'\n",
    "os.environ['WANDB_DISABLED'] = 'true'\n",
    "os.environ['MLFLOW_TRACKING_USERNAME'] = 'ruban.kumar'\n",
    "os.environ['MLFLOW_TRACKING_PASSWORD'] = 'xx'\n",
    "os.environ['MLFLOW_TRACKING_PROJECTNAME'] = 'text-classification'"
   ]
  },
  {
   "cell_type": "code",
   "execution_count": 5,
   "metadata": {},
   "outputs": [
    {
     "name": "stderr",
     "output_type": "stream",
     "text": [
      "2024/08/14 02:20:49 WARNING mlflow.utils.autologging_utils: You are using an unsupported version of transformers. If you encounter errors during autologging, try upgrading / downgrading transformers to a supported version, or try upgrading MLflow.\n"
     ]
    }
   ],
   "source": [
    "mlflow.set_registry_uri(\"https://dagshub.com/ruban.kumar/text-classification.mlflow\")\n",
    "mlflow.set_tracking_uri(\"https://dagshub.com/ruban.kumar/text-classification.mlflow\")\n",
    "mlflow.enable_system_metrics_logging()\n",
    "mlflow.transformers.autolog(log_datasets=True,log_models=True)"
   ]
  },
  {
   "cell_type": "code",
   "execution_count": 36,
   "metadata": {},
   "outputs": [],
   "source": [
    "\n",
    "\n",
    "best_runs = mlflow.search_runs(\"21\", \"\", order_by=[\"metrics.accuracy DESC\"], max_results=1)\n",
    "# best_run = runs[0]\n"
   ]
  },
  {
   "cell_type": "code",
   "execution_count": 37,
   "metadata": {},
   "outputs": [
    {
     "data": {
      "text/html": [
       "<div>\n",
       "<style scoped>\n",
       "    .dataframe tbody tr th:only-of-type {\n",
       "        vertical-align: middle;\n",
       "    }\n",
       "\n",
       "    .dataframe tbody tr th {\n",
       "        vertical-align: top;\n",
       "    }\n",
       "\n",
       "    .dataframe thead th {\n",
       "        text-align: right;\n",
       "    }\n",
       "</style>\n",
       "<table border=\"1\" class=\"dataframe\">\n",
       "  <thead>\n",
       "    <tr style=\"text-align: right;\">\n",
       "      <th></th>\n",
       "      <th>params.Model Repo Name</th>\n",
       "      <th>params.Model Version</th>\n",
       "    </tr>\n",
       "  </thead>\n",
       "  <tbody>\n",
       "    <tr>\n",
       "      <th>0</th>\n",
       "      <td>ruban19/distilbert-base-uncased-finetuned-news</td>\n",
       "      <td>main</td>\n",
       "    </tr>\n",
       "  </tbody>\n",
       "</table>\n",
       "</div>"
      ],
      "text/plain": [
       "                           params.Model Repo Name params.Model Version\n",
       "0  ruban19/distilbert-base-uncased-finetuned-news                 main"
      ]
     },
     "execution_count": 37,
     "metadata": {},
     "output_type": "execute_result"
    }
   ],
   "source": [
    "best_runs[['params.Model Repo Name', 'params.Model Version']]"
   ]
  },
  {
   "cell_type": "code",
   "execution_count": 38,
   "metadata": {},
   "outputs": [
    {
     "data": {
      "text/plain": [
       "'ruban19/distilbert-base-uncased-finetuned-newsmain'"
      ]
     },
     "execution_count": 38,
     "metadata": {},
     "output_type": "execute_result"
    }
   ],
   "source": [
    "best_runs['params.Model Repo Name'][0] + best_runs['params.Model Version'][0]"
   ]
  },
  {
   "cell_type": "code",
   "execution_count": null,
   "metadata": {},
   "outputs": [],
   "source": []
  }
 ],
 "metadata": {
  "kernelspec": {
   "display_name": ".venv",
   "language": "python",
   "name": "python3"
  },
  "language_info": {
   "codemirror_mode": {
    "name": "ipython",
    "version": 3
   },
   "file_extension": ".py",
   "mimetype": "text/x-python",
   "name": "python",
   "nbconvert_exporter": "python",
   "pygments_lexer": "ipython3",
   "version": "3.10.12"
  }
 },
 "nbformat": 4,
 "nbformat_minor": 2
}
